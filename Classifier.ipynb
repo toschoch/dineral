{
 "cells": [
  {
   "cell_type": "code",
   "execution_count": 1,
   "metadata": {},
   "outputs": [],
   "source": [
    "import pandas as pd\n",
    "import numpy as np"
   ]
  },
  {
   "cell_type": "code",
   "execution_count": 2,
   "metadata": {},
   "outputs": [
    {
     "name": "stderr",
     "output_type": "stream",
     "text": [
      "/home/tobi/numerics/envs/test_dineral/local/lib/python2.7/site-packages/sklearn/cross_validation.py:44: DeprecationWarning: This module was deprecated in version 0.18 in favor of the model_selection module into which all the refactored classes and functions are moved. Also note that the interface of the new CV iterators are different from that of this module. This module will be removed in 0.20.\n",
      "  \"This module will be removed in 0.20.\", DeprecationWarning)\n"
     ]
    }
   ],
   "source": [
    "from sklearn.feature_extraction.text import CountVectorizer\n",
    "from sklearn.feature_extraction.text import TfidfTransformer\n",
    "from sklearn.pipeline import Pipeline, FeatureUnion\n",
    "\n",
    "from sklearn.base import TransformerMixin,BaseEstimator\n",
    "from sklearn import cross_validation, metrics\n",
    "\n",
    "from sklearn.manifold import TSNE, TSNE, MDS"
   ]
  },
  {
   "cell_type": "code",
   "execution_count": 3,
   "metadata": {},
   "outputs": [],
   "source": [
    "from sklearn.decomposition import pca"
   ]
  },
  {
   "cell_type": "code",
   "execution_count": 4,
   "metadata": {},
   "outputs": [
    {
     "name": "stderr",
     "output_type": "stream",
     "text": [
      "/home/tobi/numerics/envs/test_dineral/local/lib/python2.7/site-packages/sklearn/grid_search.py:43: DeprecationWarning: This module was deprecated in version 0.18 in favor of the model_selection module into which all the refactored classes and functions are moved. This module will be removed in 0.20.\n",
      "  DeprecationWarning)\n"
     ]
    }
   ],
   "source": [
    "from sklearn import linear_model\n",
    "from sklearn.neural_network import BernoulliRBM\n",
    "from sklearn.grid_search import GridSearchCV\n",
    "from sklearn.linear_model import SGDClassifier\n",
    "import  sklearn.neural_network as nn\n",
    "import sklearn.decomposition as dec\n",
    "from sklearn import svm\n",
    "import sklearn.ensemble as ens"
   ]
  },
  {
   "cell_type": "code",
   "execution_count": 6,
   "metadata": {},
   "outputs": [],
   "source": [
    "import os"
   ]
  },
  {
   "cell_type": "code",
   "execution_count": 7,
   "metadata": {},
   "outputs": [],
   "source": [
    "os.chdir('dineral')"
   ]
  },
  {
   "cell_type": "code",
   "execution_count": 8,
   "metadata": {},
   "outputs": [
    {
     "name": "stderr",
     "output_type": "stream",
     "text": [
      "/home/tobi/numerics/envs/test_dineral/local/lib/python2.7/site-packages/seaborn/apionly.py:6: UserWarning: As seaborn no longer sets a default style on import, the seaborn.apionly module is deprecated. It will be removed in a future version.\n",
      "  warnings.warn(msg, UserWarning)\n"
     ]
    }
   ],
   "source": [
    "from internaldata import Database, Classifier"
   ]
  },
  {
   "cell_type": "code",
   "execution_count": 9,
   "metadata": {},
   "outputs": [],
   "source": [
    "clf = Classifier()"
   ]
  },
  {
   "cell_type": "code",
   "execution_count": 12,
   "metadata": {},
   "outputs": [],
   "source": [
    "os.chdir('..')"
   ]
  },
  {
   "cell_type": "code",
   "execution_count": 30,
   "metadata": {},
   "outputs": [],
   "source": [
    "db=Database()\n",
    "data = db.load_data()"
   ]
  },
  {
   "cell_type": "code",
   "execution_count": 31,
   "metadata": {},
   "outputs": [
    {
     "data": {
      "text/html": [
       "<div>\n",
       "<table border=\"1\" class=\"dataframe\">\n",
       "  <thead>\n",
       "    <tr style=\"text-align: right;\">\n",
       "      <th></th>\n",
       "      <th>Hash</th>\n",
       "      <th>Datum</th>\n",
       "      <th>Text</th>\n",
       "      <th>Lastschrift</th>\n",
       "      <th>Deleted</th>\n",
       "      <th>Kategorie</th>\n",
       "      <th>Unnamed: 6</th>\n",
       "      <th>Unnamed: 7</th>\n",
       "    </tr>\n",
       "  </thead>\n",
       "  <tbody>\n",
       "    <tr>\n",
       "      <th>0</th>\n",
       "      <td>3c3550b40b42a3367a2cb4b29d28412d</td>\n",
       "      <td>2014-01-03</td>\n",
       "      <td>01-37897-1  100000013241880130751593563\\nAssur...</td>\n",
       "      <td>176.75</td>\n",
       "      <td>False</td>\n",
       "      <td>Krankenkasse</td>\n",
       "      <td>NaN</td>\n",
       "      <td>NaN</td>\n",
       "    </tr>\n",
       "    <tr>\n",
       "      <th>1</th>\n",
       "      <td>868f4d0ba29c129f408f979f3a9f8e0e</td>\n",
       "      <td>2014-01-03</td>\n",
       "      <td>BARGELDBEZUG\\nVOM 01.01.2014\\nKARTEN NR. 64186...</td>\n",
       "      <td>200.00</td>\n",
       "      <td>True</td>\n",
       "      <td>NaN</td>\n",
       "      <td>NaN</td>\n",
       "      <td>NaN</td>\n",
       "    </tr>\n",
       "    <tr>\n",
       "      <th>2</th>\n",
       "      <td>6848fb24b03ed71e56d98fd8f3af3401</td>\n",
       "      <td>2014-01-03</td>\n",
       "      <td>Zürcher Kantonalbank  CH2300700350040352767  K...</td>\n",
       "      <td>35.00</td>\n",
       "      <td>False</td>\n",
       "      <td>Anschaffungen</td>\n",
       "      <td>NaN</td>\n",
       "      <td>NaN</td>\n",
       "    </tr>\n",
       "    <tr>\n",
       "      <th>3</th>\n",
       "      <td>5c42bb51a03c0c035f074a9a9b8ddcbb</td>\n",
       "      <td>2014-01-03</td>\n",
       "      <td>KAUF/DIENSTLEISTUNG\\nVOM 31.12.2013\\nKARTEN NR...</td>\n",
       "      <td>58.00</td>\n",
       "      <td>False</td>\n",
       "      <td>Ausgang</td>\n",
       "      <td>NaN</td>\n",
       "      <td>NaN</td>\n",
       "    </tr>\n",
       "    <tr>\n",
       "      <th>4</th>\n",
       "      <td>cf97222b176cb612026a061b0757d230</td>\n",
       "      <td>2014-01-05</td>\n",
       "      <td>ÜBERTRAG\\nAUS KONTO 92-900275-2\\nSCHOCH TOBIAS...</td>\n",
       "      <td>-1000.00</td>\n",
       "      <td>False</td>\n",
       "      <td>Sparen</td>\n",
       "      <td>NaN</td>\n",
       "      <td>NaN</td>\n",
       "    </tr>\n",
       "  </tbody>\n",
       "</table>\n",
       "</div>"
      ],
      "text/plain": [
       "                               Hash       Datum  \\\n",
       "0  3c3550b40b42a3367a2cb4b29d28412d  2014-01-03   \n",
       "1  868f4d0ba29c129f408f979f3a9f8e0e  2014-01-03   \n",
       "2  6848fb24b03ed71e56d98fd8f3af3401  2014-01-03   \n",
       "3  5c42bb51a03c0c035f074a9a9b8ddcbb  2014-01-03   \n",
       "4  cf97222b176cb612026a061b0757d230  2014-01-05   \n",
       "\n",
       "                                                Text  Lastschrift Deleted  \\\n",
       "0  01-37897-1  100000013241880130751593563\\nAssur...       176.75   False   \n",
       "1  BARGELDBEZUG\\nVOM 01.01.2014\\nKARTEN NR. 64186...       200.00    True   \n",
       "2  Zürcher Kantonalbank  CH2300700350040352767  K...        35.00   False   \n",
       "3  KAUF/DIENSTLEISTUNG\\nVOM 31.12.2013\\nKARTEN NR...        58.00   False   \n",
       "4  ÜBERTRAG\\nAUS KONTO 92-900275-2\\nSCHOCH TOBIAS...     -1000.00   False   \n",
       "\n",
       "       Kategorie Unnamed: 6 Unnamed: 7  \n",
       "0   Krankenkasse        NaN        NaN  \n",
       "1            NaN        NaN        NaN  \n",
       "2  Anschaffungen        NaN        NaN  \n",
       "3        Ausgang        NaN        NaN  \n",
       "4         Sparen        NaN        NaN  "
      ]
     },
     "execution_count": 31,
     "metadata": {},
     "output_type": "execute_result"
    }
   ],
   "source": [
    "data.head()"
   ]
  },
  {
   "cell_type": "code",
   "execution_count": 32,
   "metadata": {},
   "outputs": [],
   "source": [
    "class Scaler(BaseEstimator,TransformerMixin):\n",
    "    \n",
    "    def fit(self, X, y=None, **fit_params):\n",
    "        self._factor = np.max(np.abs(X))\n",
    "        return self\n",
    "    \n",
    "    def transform(self, X, y=None, **fit_params):\n",
    "        return np.matrix((X/self._factor)).T\n",
    "\n",
    "    def fit_transform(self, X, y=None, **fit_params):\n",
    "        self.fit(X, y, **fit_params)\n",
    "        return self.transform(X)"
   ]
  },
  {
   "cell_type": "code",
   "execution_count": 33,
   "metadata": {},
   "outputs": [],
   "source": [
    "class ItemSelector(BaseEstimator,TransformerMixin):\n",
    "    \n",
    "    def __init__(self, key=0):\n",
    "        self.key = key\n",
    "\n",
    "    def fit(self, x, y=None):\n",
    "        return self\n",
    "\n",
    "    def transform(self, data):\n",
    "        return data[self.key]\n",
    "\n",
    "    def fit_transform(self, X, y=None, **fit_params):\n",
    "        self.fit(X, y, **fit_params)\n",
    "        return self.transform(X)"
   ]
  },
  {
   "cell_type": "code",
   "execution_count": 34,
   "metadata": {},
   "outputs": [],
   "source": [
    "class DenseTransformer(BaseEstimator,TransformerMixin):\n",
    "\n",
    "        def transform(self, X, y=None, **fit_params):\n",
    "            return X.todense()\n",
    "\n",
    "        def fit_transform(self, X, y=None, **fit_params):\n",
    "            self.fit(X, y, **fit_params)\n",
    "            return self.transform(X)\n",
    "\n",
    "        def fit(self, X, y=None, **fit_params):\n",
    "            return self"
   ]
  },
  {
   "cell_type": "code",
   "execution_count": 35,
   "metadata": {},
   "outputs": [],
   "source": [
    "features = FeatureUnion([('text',Pipeline([('select',ItemSelector('Text')),\n",
    "                                           ('vect',CountVectorizer(analyzer='char_wb',lowercase=True, strip_accents='unicode')),\n",
    "                                           ('trans',TfidfTransformer(use_idf=True))])),\n",
    "                         ('number',Pipeline([('select',ItemSelector('Lastschrift')),('scale',Scaler())]))])"
   ]
  },
  {
   "cell_type": "code",
   "execution_count": 36,
   "metadata": {},
   "outputs": [],
   "source": [
    "features = FeatureUnion([('text',Pipeline([('select',ItemSelector('Text')),\n",
    "                                           ('vect',CountVectorizer(analyzer='char_wb',lowercase=True, strip_accents='unicode')),\n",
    "                                           ('trans',TfidfTransformer(use_idf=True))]))])"
   ]
  },
  {
   "cell_type": "code",
   "execution_count": 37,
   "metadata": {},
   "outputs": [],
   "source": [
    "features = Pipeline([('vect',CountVectorizer(ngram_range=(4,5),analyzer='char_wb',lowercase=True, strip_accents='unicode')),\n",
    "                     ('trans',TfidfTransformer(use_idf=True))])"
   ]
  },
  {
   "cell_type": "code",
   "execution_count": 38,
   "metadata": {},
   "outputs": [],
   "source": [
    "data['Kategorie'] = data.Kategorie.cat.add_categories([u'Delete'])"
   ]
  },
  {
   "cell_type": "code",
   "execution_count": 39,
   "metadata": {},
   "outputs": [],
   "source": [
    "data.Kategorie[data.Kategorie.isnull()]=u'Delete'"
   ]
  },
  {
   "cell_type": "code",
   "execution_count": 40,
   "metadata": {},
   "outputs": [],
   "source": [
    "data.Kategorie[data.Deleted]=np.nan"
   ]
  },
  {
   "cell_type": "code",
   "execution_count": 41,
   "metadata": {},
   "outputs": [],
   "source": [
    "categories = data.Kategorie.cat.categories\n",
    "target = data.Kategorie.cat.codes"
   ]
  },
  {
   "cell_type": "code",
   "execution_count": 42,
   "metadata": {},
   "outputs": [],
   "source": [
    "data_train, data_test, target_train, target_test = cross_validation.train_test_split(data, target, test_size=0.05)"
   ]
  },
  {
   "cell_type": "code",
   "execution_count": 43,
   "metadata": {},
   "outputs": [],
   "source": [
    "text_clf = Pipeline([('features',features),('clf',SGDClassifier(loss='modified_huber',penalty='l2',random_state=12))])"
   ]
  },
  {
   "cell_type": "code",
   "execution_count": 44,
   "metadata": {},
   "outputs": [],
   "source": [
    "parameters = {\n",
    "              'features__vect__ngram_range':[(i,j) for j in range(3,7) for i in range(1,j)],\n",
    "              'clf__alpha': np.linspace(3e-3,1e-4,20)\n",
    "             }"
   ]
  },
  {
   "cell_type": "code",
   "execution_count": 45,
   "metadata": {},
   "outputs": [
    {
     "name": "stdout",
     "output_type": "stream",
     "text": [
      "Fitting 5 folds for each of 280 candidates, totalling 1400 fits\n"
     ]
    },
    {
     "name": "stderr",
     "output_type": "stream",
     "text": [
      "/home/tobi/numerics/envs/test_dineral/local/lib/python2.7/site-packages/sklearn/feature_extraction/text.py:1059: FutureWarning: Conversion of the second argument of issubdtype from `float` to `np.floating` is deprecated. In future, it will be treated as `np.float64 == np.dtype(float).type`.\n",
      "  if hasattr(X, 'dtype') and np.issubdtype(X.dtype, np.float):\n",
      "/home/tobi/numerics/envs/test_dineral/local/lib/python2.7/site-packages/sklearn/feature_extraction/text.py:1059: FutureWarning: Conversion of the second argument of issubdtype from `float` to `np.floating` is deprecated. In future, it will be treated as `np.float64 == np.dtype(float).type`.\n",
      "  if hasattr(X, 'dtype') and np.issubdtype(X.dtype, np.float):\n",
      "/home/tobi/numerics/envs/test_dineral/local/lib/python2.7/site-packages/sklearn/feature_extraction/text.py:1059: FutureWarning: Conversion of the second argument of issubdtype from `float` to `np.floating` is deprecated. In future, it will be treated as `np.float64 == np.dtype(float).type`.\n",
      "  if hasattr(X, 'dtype') and np.issubdtype(X.dtype, np.float):\n",
      "/home/tobi/numerics/envs/test_dineral/local/lib/python2.7/site-packages/sklearn/feature_extraction/text.py:1059: FutureWarning: Conversion of the second argument of issubdtype from `float` to `np.floating` is deprecated. In future, it will be treated as `np.float64 == np.dtype(float).type`.\n",
      "  if hasattr(X, 'dtype') and np.issubdtype(X.dtype, np.float):\n",
      "/home/tobi/numerics/envs/test_dineral/local/lib/python2.7/site-packages/sklearn/feature_extraction/text.py:1059: FutureWarning: Conversion of the second argument of issubdtype from `float` to `np.floating` is deprecated. In future, it will be treated as `np.float64 == np.dtype(float).type`.\n",
      "  if hasattr(X, 'dtype') and np.issubdtype(X.dtype, np.float):\n",
      "/home/tobi/numerics/envs/test_dineral/local/lib/python2.7/site-packages/sklearn/feature_extraction/text.py:1059: FutureWarning: Conversion of the second argument of issubdtype from `float` to `np.floating` is deprecated. In future, it will be treated as `np.float64 == np.dtype(float).type`.\n",
      "  if hasattr(X, 'dtype') and np.issubdtype(X.dtype, np.float):\n",
      "/home/tobi/numerics/envs/test_dineral/local/lib/python2.7/site-packages/sklearn/feature_extraction/text.py:1059: FutureWarning: Conversion of the second argument of issubdtype from `float` to `np.floating` is deprecated. In future, it will be treated as `np.float64 == np.dtype(float).type`.\n",
      "  if hasattr(X, 'dtype') and np.issubdtype(X.dtype, np.float):\n",
      "/home/tobi/numerics/envs/test_dineral/local/lib/python2.7/site-packages/sklearn/feature_extraction/text.py:1059: FutureWarning: Conversion of the second argument of issubdtype from `float` to `np.floating` is deprecated. In future, it will be treated as `np.float64 == np.dtype(float).type`.\n",
      "  if hasattr(X, 'dtype') and np.issubdtype(X.dtype, np.float):\n",
      "[Parallel(n_jobs=8)]: Done  34 tasks      | elapsed:   13.3s\n",
      "[Parallel(n_jobs=8)]: Done 184 tasks      | elapsed:   57.8s\n",
      "[Parallel(n_jobs=8)]: Done 434 tasks      | elapsed:  2.2min\n",
      "[Parallel(n_jobs=8)]: Done 784 tasks      | elapsed:  3.9min\n",
      "[Parallel(n_jobs=8)]: Done 1234 tasks      | elapsed:  6.1min\n",
      "[Parallel(n_jobs=8)]: Done 1400 out of 1400 | elapsed:  6.9min finished\n",
      "/home/tobi/numerics/envs/test_dineral/local/lib/python2.7/site-packages/sklearn/feature_extraction/text.py:1059: FutureWarning: Conversion of the second argument of issubdtype from `float` to `np.floating` is deprecated. In future, it will be treated as `np.float64 == np.dtype(float).type`.\n",
      "  if hasattr(X, 'dtype') and np.issubdtype(X.dtype, np.float):\n"
     ]
    },
    {
     "data": {
      "text/plain": [
       "GridSearchCV(cv=5, error_score='raise',\n",
       "       estimator=Pipeline(steps=[('features', Pipeline(steps=[('vect', CountVectorizer(analyzer='char_wb', binary=False, decode_error=u'strict',\n",
       "        dtype=<type 'numpy.int64'>, encoding=u'utf-8', input=u'content',\n",
       "        lowercase=True, max_df=1.0, max_features=None, min_df=1,\n",
       "        ngram_range=(4, 5), preprocessor=No...     penalty='l2', power_t=0.5, random_state=12, shuffle=True, verbose=0,\n",
       "       warm_start=False))]),\n",
       "       fit_params={}, iid=True, n_jobs=8,\n",
       "       param_grid={'features__vect__ngram_range': [(1, 3), (2, 3), (1, 4), (2, 4), (3, 4), (1, 5), (2, 5), (3, 5), (4, 5), (1, 6), (2, 6), (3, 6), (4, 6), (5, 6)], 'clf__alpha': array([0.003  , 0.00285, 0.00269, 0.00254, 0.00239, 0.00224, 0.00208,\n",
       "       0.00193, 0.00178, 0.00163, 0.00147, 0.00132, 0.00117, 0.00102,\n",
       "       0.00086, 0.00071, 0.00056, 0.00041, 0.00025, 0.0001 ])},\n",
       "       pre_dispatch='2*n_jobs', refit=True, scoring=None, verbose=True)"
      ]
     },
     "execution_count": 45,
     "metadata": {},
     "output_type": "execute_result"
    }
   ],
   "source": [
    "gs_clf = GridSearchCV(text_clf,parameters,cv=5,verbose=True, n_jobs=8)\n",
    "gs_clf.fit(data_train['Text'],target_train)"
   ]
  },
  {
   "cell_type": "code",
   "execution_count": 46,
   "metadata": {},
   "outputs": [
    {
     "name": "stdout",
     "output_type": "stream",
     "text": [
      "{'features__vect__ngram_range': (2, 5), 'clf__alpha': 0.0010157894736842104}\n"
     ]
    }
   ],
   "source": [
    "print gs_clf.best_params_"
   ]
  },
  {
   "cell_type": "code",
   "execution_count": 47,
   "metadata": {},
   "outputs": [],
   "source": [
    "preds = gs_clf.predict(data_test['Text'])"
   ]
  },
  {
   "cell_type": "code",
   "execution_count": 48,
   "metadata": {},
   "outputs": [],
   "source": [
    "preds_all = gs_clf.predict(data['Text'])"
   ]
  },
  {
   "cell_type": "code",
   "execution_count": 49,
   "metadata": {},
   "outputs": [
    {
     "name": "stdout",
     "output_type": "stream",
     "text": [
      "             precision    recall  f1-score   support\n",
      "\n",
      "         -1       1.00      1.00      1.00         8\n",
      "          0       0.25      0.33      0.29         3\n",
      "          1       1.00      0.50      0.67         2\n",
      "          2       0.85      0.85      0.85        13\n",
      "          3       0.50      1.00      0.67         2\n",
      "          5       1.00      1.00      1.00         2\n",
      "          6       0.83      0.83      0.83         6\n",
      "          7       0.93      0.97      0.95        29\n",
      "          8       0.00      0.00      0.00         0\n",
      "          9       1.00      0.75      0.86         4\n",
      "         10       0.00      0.00      0.00         1\n",
      "         11       1.00      1.00      1.00         4\n",
      "         12       1.00      0.50      0.67         4\n",
      "         13       1.00      1.00      1.00         2\n",
      "         14       1.00      1.00      1.00         5\n",
      "         15       1.00      1.00      1.00         2\n",
      "         16       0.82      0.69      0.75        13\n",
      "         17       1.00      1.00      1.00         5\n",
      "         20       1.00      1.00      1.00         3\n",
      "         22       0.71      1.00      0.83         5\n",
      "         23       1.00      1.00      1.00         5\n",
      "         24       1.00      1.00      1.00         1\n",
      "\n",
      "avg / total       0.89      0.87      0.87       119\n",
      "\n"
     ]
    },
    {
     "name": "stderr",
     "output_type": "stream",
     "text": [
      "/home/tobi/numerics/envs/test_dineral/local/lib/python2.7/site-packages/sklearn/metrics/classification.py:1113: UndefinedMetricWarning: Precision and F-score are ill-defined and being set to 0.0 in labels with no predicted samples.\n",
      "  'precision', 'predicted', average, warn_for)\n",
      "/home/tobi/numerics/envs/test_dineral/local/lib/python2.7/site-packages/sklearn/metrics/classification.py:1115: UndefinedMetricWarning: Recall and F-score are ill-defined and being set to 0.0 in labels with no true samples.\n",
      "  'recall', 'true', average, warn_for)\n"
     ]
    }
   ],
   "source": [
    "print metrics.classification_report(target_test,preds)"
   ]
  },
  {
   "cell_type": "code",
   "execution_count": 63,
   "metadata": {},
   "outputs": [],
   "source": [
    "import datetime"
   ]
  },
  {
   "cell_type": "code",
   "execution_count": 64,
   "metadata": {},
   "outputs": [],
   "source": [
    "text_clf = gs_clf.best_estimator_\n",
    "text_clf.classes_names = categories\n",
    "\n",
    "text_clf.TRAINING_DATE = datetime.datetime.now()\n",
    "text_clf.TRAINING_SAMPLES = data_train.shape[0]\n",
    "text_clf.TEST_SAMPLES = data_test.shape[0]\n",
    "text_clf.SCORE = metrics.precision_recall_fscore_support(target_test,preds)"
   ]
  },
  {
   "cell_type": "code",
   "execution_count": 65,
   "metadata": {},
   "outputs": [],
   "source": [
    "import pickle\n",
    "with open(clf.properties,\"wb+\") as fp:\n",
    "    pickle.dump(text_clf,fp)"
   ]
  },
  {
   "cell_type": "code",
   "execution_count": 96,
   "metadata": {},
   "outputs": [
    {
     "name": "stdout",
     "output_type": "stream",
     "text": [
      "[t-SNE] Computing pairwise distances...\n",
      "[t-SNE] Computing 91 nearest neighbors...\n",
      "[t-SNE] Computed conditional probabilities for sample 1000 / 1539\n",
      "[t-SNE] Computed conditional probabilities for sample 1539 / 1539\n",
      "[t-SNE] Mean sigma: 0.408142\n",
      "[t-SNE] Error after 100 iterations with early exaggeration: 0.681182\n",
      "[t-SNE] Error after 175 iterations: 0.620439\n"
     ]
    }
   ],
   "source": [
    "tsne = TSNE(init='pca',verbose=True,perplexity=30,n_iter=2000,n_iter_without_progress=50,learning_rate=1500,\n",
    "            early_exaggeration=5)\n",
    "f_red = tsne.fit_transform(features.fit_transform(data.Text).toarray())"
   ]
  }
 ],
 "metadata": {
  "kernelspec": {
   "display_name": "Python 2",
   "language": "python",
   "name": "python2"
  },
  "language_info": {
   "codemirror_mode": {
    "name": "ipython",
    "version": 2
   },
   "file_extension": ".py",
   "mimetype": "text/x-python",
   "name": "python",
   "nbconvert_exporter": "python",
   "pygments_lexer": "ipython2",
   "version": "2.7.13"
  }
 },
 "nbformat": 4,
 "nbformat_minor": 1
}
